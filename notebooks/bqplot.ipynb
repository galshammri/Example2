{
  "nbformat": 4,
  "nbformat_minor": 0,
  "metadata": {
    "colab": {
      "name": "Untitled7.ipynb",
      "provenance": []
    },
    "kernelspec": {
      "name": "python3",
      "display_name": "Python 3"
    }
  },
  "cells": [
    {
      "cell_type": "code",
      "metadata": {
        "id": "8yIjzt7XqtSo",
        "colab_type": "code",
        "colab": {
          "base_uri": "https://localhost:8080/",
          "height": 35
        },
        "outputId": "af737ee6-a92f-4116-dba8-a1c59233a5e2"
      },
      "source": [
        "print(\"Welcome to Data Science and Big Data Bootcamp\")"
      ],
      "execution_count": 1,
      "outputs": [
        {
          "output_type": "stream",
          "text": [
            "Welcome to Data Science and Big Data Bootcamp\n"
          ],
          "name": "stdout"
        }
      ]
    }
  ]
}